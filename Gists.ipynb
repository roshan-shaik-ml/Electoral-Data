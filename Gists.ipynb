{
 "cells": [
  {
   "cell_type": "code",
   "execution_count": 1,
   "metadata": {},
   "outputs": [],
   "source": [
    "import os\n",
    "import re\n",
    "import json\n",
    "import string\n",
    "import random\n",
    "import requests\n",
    "from env import GITHUB"
   ]
  },
  {
   "cell_type": "code",
   "execution_count": 2,
   "metadata": {},
   "outputs": [],
   "source": [
    "def generate_random_string(length):\n",
    "\n",
    "    \"\"\"Generate a random string of letters and digits.\"\"\"\n",
    "    characters = string.ascii_letters + string.digits\n",
    "    return ''.join(random.choice(characters) for i in range(length))\n",
    "\n",
    "def extract_gist_id(gist_url):\n",
    "\n",
    "    \"\"\"\n",
    "    Extract the Gist ID from the given URL.\n",
    "    \"\"\"\n",
    "    # Regular expression to match the Gist ID\n",
    "    pattern = r'gist.github.com/([^/]+)/([^/]+)'\n",
    "    match = re.search(pattern, gist_url)\n",
    "    if match:\n",
    "        return match.group(2)\n",
    "    else:\n",
    "        return None\n",
    "\n",
    "def delete_gist(gist_id, token):\n",
    "    \"\"\"\n",
    "    Delete a GitHub Gist with the specified ID.\n",
    "    \"\"\"\n",
    "    url = f'https://api.github.com/gists/{gist_id}'\n",
    "    headers = {'Authorization': f'token {token}'}\n",
    "    response = requests.delete(url, headers=headers)\n",
    "    \n",
    "    if response.status_code == 204:\n",
    "        print(f'Gist {gist_id} deleted successfully.')\n",
    "    else:\n",
    "        print(f'Failed to delete Gist {gist_id}: {response.status_code} - {response.text}')"
   ]
  },
  {
   "cell_type": "code",
   "execution_count": 4,
   "metadata": {},
   "outputs": [],
   "source": [
    "def create_gist(file_name, description='foo bar', public=False, token=None):\n",
    "    \"\"\"\n",
    "    Create a new GitHub Gist with the specified file.\n",
    "    \"\"\"\n",
    "    url = 'https://api.github.com/gists'\n",
    "    headers = {'Content-Type': 'application/json'}\n",
    "    if token:\n",
    "        headers['Authorization'] = f'token {token}'\n",
    "        \n",
    "    with open(file_name, 'r') as file:\n",
    "        file_content = file.read()\n",
    "\n",
    "    random_string = generate_random_string(6)\n",
    "    new_filename = f'{os.path.basename(file_name)[:-4]}_{random_string}.txt'\n",
    "    print(new_filename)\n",
    "    data = {\n",
    "        'description': description,\n",
    "        'public': public,\n",
    "        'files': {\n",
    "            new_filename: {\n",
    "                'content': file_content\n",
    "            }\n",
    "        }\n",
    "    }\n",
    "    response = requests.post(url, headers=headers, json=data)\n",
    "    if response.status_code == 201:\n",
    "        gist_url = response.json()['html_url']\n",
    "        print(f'Gist created successfully: {gist_url}')\n",
    "        return gist_url\n",
    "    else:\n",
    "        print(f'Failed to create Gist: {response.status_code} - {response.text}')\n",
    "        return None\n"
   ]
  },
  {
   "cell_type": "code",
   "execution_count": 5,
   "metadata": {},
   "outputs": [
    {
     "name": "stdout",
     "output_type": "stream",
     "text": [
      "election_data_NJwSdG.txt\n",
      "Gist created successfully: https://gist.github.com/roshan-shaik-ml/9d3a1208fd925a96122e993adc05c95c\n"
     ]
    }
   ],
   "source": [
    "file_name = 'election_data.txt'\n",
    "token = GITHUB\n",
    "\n",
    "# creating a new public gist\n",
    "gist_url = create_gist(file_name=file_name, token=GITHUB)"
   ]
  },
  {
   "cell_type": "code",
   "execution_count": 6,
   "metadata": {},
   "outputs": [
    {
     "name": "stdout",
     "output_type": "stream",
     "text": [
      "Gist 9d3a1208fd925a96122e993adc05c95c deleted successfully.\n"
     ]
    }
   ],
   "source": [
    "gist_id = extract_gist_id(gist_url)\n",
    "delete_gist(gist_id, token=GITHUB)"
   ]
  },
  {
   "cell_type": "code",
   "execution_count": null,
   "metadata": {},
   "outputs": [],
   "source": []
  }
 ],
 "metadata": {
  "kernelspec": {
   "display_name": "election_data",
   "language": "python",
   "name": "python3"
  },
  "language_info": {
   "codemirror_mode": {
    "name": "ipython",
    "version": 3
   },
   "file_extension": ".py",
   "mimetype": "text/x-python",
   "name": "python",
   "nbconvert_exporter": "python",
   "pygments_lexer": "ipython3",
   "version": "3.10.12"
  }
 },
 "nbformat": 4,
 "nbformat_minor": 2
}
